{
 "cells": [
  {
   "cell_type": "markdown",
   "metadata": {},
   "source": [
    "## Assignment 3 : Bigrams \n",
    "Name: Yuexi Li (Not in this course)    "
   ]
  },
  {
   "cell_type": "code",
   "execution_count": 47,
   "metadata": {},
   "outputs": [],
   "source": [
    "from pyspark import SparkConf\n",
    "from pyspark.context import SparkContext\n",
    "sc = SparkContext.getOrCreate(SparkConf())"
   ]
  },
  {
   "cell_type": "markdown",
   "metadata": {},
   "source": [
    "#### Requirements\n",
    "   1. How many unique bigrams are there?\n",
    "\n",
    "   2. List the top ten most frequent bigrams and their counts\n",
    "\n",
    "   3. What fraction of all bigrams occurrences does the \n",
    "      top ten bigrams account for? That is, what is the \n",
    "      cumulative frequency of the top ten bigrams?\n",
    "\n",
    "   4. How many bigrams appear only once?\n",
    "   \n",
    "   \n",
    "#### The following additional requirements needs to be implemented:\n",
    "\n",
    "1. all words has to be converted to lowercase\n",
    "\n",
    "2. all double quotes (\") to be removed\n",
    "\n",
    "4. Special characters to be ignored and removed \n",
    "   from the END of the words such as {\",\", \".\", \";\", \"?\", \":\"}\n",
    "\n",
    "        For example if there is a word such as \"abcdef,\", \"abcdef.\",\n",
    "        \"abcdef;\", \"abcdef?\" or \"abcdef:\" then these will be converted \n",
    "        to \"abcdef\". \n",
    "\n",
    "        Note that in the input there are many special characters, we \n",
    "        will leave them as is. The only special characters, which you \n",
    "        will handle are {\",\", \".\", \";\", \"?\", \":\"}\n",
    "\n",
    "5. Assume that words are separated by one or more spaces or tabs\n",
    "\n",
    "6. If a word ends with \"'s\", then remove \"'s\" from that word.\n",
    "   For example Mary's become Mary\n",
    "\n",
    "7. If a word begins with \"*\", then that word to be deleted from \n",
    "   bigram analysis\n",
    "\n"
   ]
  },
  {
   "cell_type": "markdown",
   "metadata": {},
   "source": [
    "### Input cleaning"
   ]
  },
  {
   "cell_type": "code",
   "execution_count": 90,
   "metadata": {},
   "outputs": [],
   "source": [
    "textFile=sc.textFile(\"/Users/liyuexi/Documents/Project/Bigdata/Assignment/Assignment3/gutenberg.txt\")"
   ]
  },
  {
   "cell_type": "code",
   "execution_count": 329,
   "metadata": {},
   "outputs": [],
   "source": [
    "def clean_str(x):\n",
    "    x=str(x)\n",
    "    lowercased=x.lower()                    #1.Lowercase \n",
    "    string_rm=lowercased.replace('\"','')    #2.Remove all double quotes\n",
    "    special_rm=string_rm.rstrip('.,;?:')    #3.Remove special characters at the End of the words\n",
    "    aspo_rm=special_rm.replace('\\'s','')    #5.Remove apostrophe \n",
    "    return aspo_rm "
   ]
  },
  {
   "cell_type": "code",
   "execution_count": 330,
   "metadata": {},
   "outputs": [],
   "source": [
    "#For each line in TextFile Rdd, sperate with the space then clean up every elements by using clean_str function\n",
    "Raw_rdd=textFile.map(lambda x: [clean_str(i) for i in x.split(\" \")]) "
   ]
  },
  {
   "cell_type": "code",
   "execution_count": 399,
   "metadata": {},
   "outputs": [],
   "source": [
    "#1.Filter with the words start with * and null value\n",
    "#2.Create bigrams pairs, each count for 1\n",
    "Bigram_rdd=Raw_rdd.flatMap(lambda s:[((s[i],s[i+1]),1) for i in range (0, len(s)-1) \\\n",
    "                                     if ((s[i]!='') &(s[i+1]!='')\n",
    "                                     and (s[i][0]!='*') &(s[i+1][0]!='*'))] ) "
   ]
  },
  {
   "cell_type": "code",
   "execution_count": 400,
   "metadata": {},
   "outputs": [
    {
     "data": {
      "text/plain": [
       "[(('the', 'project'), 1),\n",
       " (('project', 'gutenberg'), 1),\n",
       " (('gutenberg', 'ebook'), 1),\n",
       " (('ebook', 'of'), 1),\n",
       " (('of', 'democracy'), 1)]"
      ]
     },
     "execution_count": 400,
     "metadata": {},
     "output_type": "execute_result"
    }
   ],
   "source": [
    "Bigram_rdd.take(5)"
   ]
  },
  {
   "cell_type": "code",
   "execution_count": 403,
   "metadata": {},
   "outputs": [],
   "source": [
    "Bigram_total = Bigram_rdd.reduceByKey(lambda x, y : x+y)"
   ]
  },
  {
   "cell_type": "code",
   "execution_count": 404,
   "metadata": {},
   "outputs": [
    {
     "data": {
      "text/plain": [
       "[(('project', 'gutenberg'), 25),\n",
       " (('gutenberg', 'ebook'), 4),\n",
       " (('ebook', 'of'), 2),\n",
       " (('in', 'america'), 192),\n",
       " (('(of', '2)'), 3)]"
      ]
     },
     "execution_count": 404,
     "metadata": {},
     "output_type": "execute_result"
    }
   ],
   "source": [
    "Bigram_total.take(5)"
   ]
  },
  {
   "cell_type": "markdown",
   "metadata": {},
   "source": [
    "####  Q1. How many unique bigrams are there? "
   ]
  },
  {
   "cell_type": "code",
   "execution_count": 414,
   "metadata": {},
   "outputs": [
    {
     "data": {
      "text/plain": [
       "70827"
      ]
     },
     "execution_count": 414,
     "metadata": {},
     "output_type": "execute_result"
    }
   ],
   "source": [
    "Bigram_total.distinct().count()"
   ]
  },
  {
   "cell_type": "markdown",
   "metadata": {},
   "source": [
    "#### Q2. List the top ten most frequent bigrams and their counts"
   ]
  },
  {
   "cell_type": "code",
   "execution_count": 527,
   "metadata": {},
   "outputs": [],
   "source": [
    "Top10= Bigram_total.top(10, key=lambda x: x[1])"
   ]
  },
  {
   "cell_type": "code",
   "execution_count": 528,
   "metadata": {},
   "outputs": [
    {
     "data": {
      "text/plain": [
       "[(('of', 'the'), 3916),\n",
       " (('in', 'the'), 1540),\n",
       " (('to', 'the'), 1035),\n",
       " (('and', 'the'), 783),\n",
       " (('it', 'is'), 608),\n",
       " (('by', 'the'), 520),\n",
       " (('the', 'united'), 476),\n",
       " (('of', 'a'), 459),\n",
       " (('united', 'states'), 451),\n",
       " (('to', 'be'), 440)]"
      ]
     },
     "execution_count": 528,
     "metadata": {},
     "output_type": "execute_result"
    }
   ],
   "source": [
    "Top10"
   ]
  },
  {
   "cell_type": "markdown",
   "metadata": {},
   "source": [
    "#### Q3. What fraction of all bigrams occurrences does the top ten bigrams account for? That is, what is the cumulative frequency of the top ten bigrams?\n",
    " "
   ]
  },
  {
   "cell_type": "code",
   "execution_count": 529,
   "metadata": {},
   "outputs": [],
   "source": [
    "Occurence=Bigram_total.map(lambda x: x[1]).sum()"
   ]
  },
  {
   "cell_type": "code",
   "execution_count": 545,
   "metadata": {},
   "outputs": [],
   "source": [
    "def cumulative_freq(input_list):\n",
    "    sum_occurence=0\n",
    "    for i in range(0,len(input_list)):\n",
    "        sum_occurence=sum_occurence+input_list[i][1]\n",
    "        print(input_list[i][0])\n",
    "        print('{:.2%}'.format(sum_occurence*1.0/Occurence))"
   ]
  },
  {
   "cell_type": "code",
   "execution_count": 546,
   "metadata": {},
   "outputs": [
    {
     "name": "stdout",
     "output_type": "stream",
     "text": [
      "('of', 'the')\n",
      "2.23%\n",
      "('in', 'the')\n",
      "3.11%\n",
      "('to', 'the')\n",
      "3.70%\n",
      "('and', 'the')\n",
      "4.14%\n",
      "('it', 'is')\n",
      "4.49%\n",
      "('by', 'the')\n",
      "4.78%\n",
      "('the', 'united')\n",
      "5.05%\n",
      "('of', 'a')\n",
      "5.32%\n",
      "('united', 'states')\n",
      "5.57%\n",
      "('to', 'be')\n",
      "5.82%\n"
     ]
    }
   ],
   "source": [
    "cumulative_freq(Top10)"
   ]
  },
  {
   "cell_type": "markdown",
   "metadata": {},
   "source": [
    "#### Q4. How many bigrams appear only once?"
   ]
  },
  {
   "cell_type": "code",
   "execution_count": 435,
   "metadata": {},
   "outputs": [],
   "source": [
    "Once_Bigram=Bigram_total.filter(lambda x: x[1]==1)"
   ]
  },
  {
   "cell_type": "code",
   "execution_count": 442,
   "metadata": {},
   "outputs": [
    {
     "data": {
      "text/plain": [
       "51765"
      ]
     },
     "execution_count": 442,
     "metadata": {},
     "output_type": "execute_result"
    }
   ],
   "source": [
    "Once_Bigram.distinct().count()"
   ]
  }
 ],
 "metadata": {
  "kernelspec": {
   "display_name": "Python 3",
   "language": "python",
   "name": "python3"
  },
  "language_info": {
   "codemirror_mode": {
    "name": "ipython",
    "version": 3
   },
   "file_extension": ".py",
   "mimetype": "text/x-python",
   "name": "python",
   "nbconvert_exporter": "python",
   "pygments_lexer": "ipython3",
   "version": "3.6.3"
  }
 },
 "nbformat": 4,
 "nbformat_minor": 2
}
