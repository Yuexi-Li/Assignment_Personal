{
 "cells": [
  {
   "cell_type": "markdown",
   "metadata": {},
   "source": [
    "# Word Count MapReduce Program in PySpark"
   ]
  },
  {
   "cell_type": "code",
   "execution_count": 40,
   "metadata": {},
   "outputs": [],
   "source": [
    "from pyspark import SparkConf\n",
    "from pyspark.context import SparkContext\n",
    "sc = SparkContext.getOrCreate(SparkConf())"
   ]
  },
  {
   "cell_type": "code",
   "execution_count": 418,
   "metadata": {},
   "outputs": [],
   "source": [
    "textFile = sc.textFile(\"/Users/liyuexi/Documents/Project/Bigdata/Assignment/Assignment2/1342.txt\")"
   ]
  },
  {
   "cell_type": "code",
   "execution_count": 356,
   "metadata": {},
   "outputs": [],
   "source": [
    "Raw_rdd=textFile.flatMap(lambda x: x.split(\" \"))"
   ]
  },
  {
   "cell_type": "code",
   "execution_count": 417,
   "metadata": {},
   "outputs": [],
   "source": [
    "def clean_str(x):\n",
    "    lowercased=x.lower()\n",
    "    string_rm=lowercased.replace('\"','')\n",
    "    special_rm=string_rm.rstrip('.,;?') \n",
    "    return special_rm "
   ]
  },
  {
   "cell_type": "code",
   "execution_count": 358,
   "metadata": {},
   "outputs": [],
   "source": [
    "Cleaned_rdd=Raw_rdd.map(lambda x: clean_str(x)).filter(lambda x: len(x)>=3)"
   ]
  },
  {
   "cell_type": "markdown",
   "metadata": {},
   "source": [
    "##### Method 1"
   ]
  },
  {
   "cell_type": "code",
   "execution_count": 359,
   "metadata": {},
   "outputs": [],
   "source": [
    "rdd_count=Cleaned_rdd.map(lambda x: (x,1))"
   ]
  },
  {
   "cell_type": "code",
   "execution_count": 360,
   "metadata": {},
   "outputs": [],
   "source": [
    "frequency=rdd_count.reduceByKey(lambda x,y: x+y)"
   ]
  },
  {
   "cell_type": "markdown",
   "metadata": {},
   "source": [
    "##### Method 2"
   ]
  },
  {
   "cell_type": "code",
   "execution_count": 337,
   "metadata": {},
   "outputs": [],
   "source": [
    "grouped_key=rdd_count.groupByKey()"
   ]
  },
  {
   "cell_type": "code",
   "execution_count": 339,
   "metadata": {},
   "outputs": [],
   "source": [
    "Grouped_Key=grouped_key.mapValues(lambda values : sum(list(values)))"
   ]
  },
  {
   "cell_type": "markdown",
   "metadata": {},
   "source": [
    "### Results:"
   ]
  },
  {
   "cell_type": "code",
   "execution_count": 413,
   "metadata": {},
   "outputs": [],
   "source": [
    "def lookup(rdd_file,search):\n",
    "    results=[]\n",
    "    for i in search:\n",
    "        results.append(i)\n",
    "        results.append(rdd_file.lookup(i))\n",
    "    return results"
   ]
  },
  {
   "cell_type": "code",
   "execution_count": 411,
   "metadata": {},
   "outputs": [],
   "source": [
    "search_list=['advantage','book','mistake','dancing','gutenberg','astonishment','hill',\\\n",
    "             'yesterday','the','fox','\"']"
   ]
  },
  {
   "cell_type": "code",
   "execution_count": 414,
   "metadata": {},
   "outputs": [
    {
     "data": {
      "text/plain": [
       "['advantage',\n",
       " [34],\n",
       " 'book',\n",
       " [15],\n",
       " 'mistake',\n",
       " [7],\n",
       " 'dancing',\n",
       " [21],\n",
       " 'gutenberg',\n",
       " [28],\n",
       " 'astonishment',\n",
       " [30],\n",
       " 'hill',\n",
       " [9],\n",
       " 'yesterday',\n",
       " [13],\n",
       " 'the',\n",
       " [4495],\n",
       " 'fox',\n",
       " [],\n",
       " '\"',\n",
       " []]"
      ]
     },
     "execution_count": 414,
     "metadata": {},
     "output_type": "execute_result"
    }
   ],
   "source": [
    "lookup(frequency,search_list)"
   ]
  },
  {
   "cell_type": "code",
   "execution_count": 415,
   "metadata": {},
   "outputs": [
    {
     "data": {
      "text/plain": [
       "['advantage',\n",
       " [34],\n",
       " 'book',\n",
       " [15],\n",
       " 'mistake',\n",
       " [7],\n",
       " 'dancing',\n",
       " [21],\n",
       " 'gutenberg',\n",
       " [29],\n",
       " 'astonishment',\n",
       " [30],\n",
       " 'hill',\n",
       " [9],\n",
       " 'yesterday',\n",
       " [13],\n",
       " 'the',\n",
       " [4495],\n",
       " 'fox',\n",
       " [],\n",
       " '\"',\n",
       " []]"
      ]
     },
     "execution_count": 415,
     "metadata": {},
     "output_type": "execute_result"
    }
   ],
   "source": [
    "lookup(Grouped_Key,search_list)"
   ]
  },
  {
   "cell_type": "code",
   "execution_count": 416,
   "metadata": {},
   "outputs": [],
   "source": [
    "frequency.saveAsTextFile(\"Assigment2_Yuexi.txt\")"
   ]
  },
  {
   "cell_type": "code",
   "execution_count": null,
   "metadata": {},
   "outputs": [],
   "source": []
  }
 ],
 "metadata": {
  "kernelspec": {
   "display_name": "Python 3",
   "language": "python",
   "name": "python3"
  },
  "language_info": {
   "codemirror_mode": {
    "name": "ipython",
    "version": 3
   },
   "file_extension": ".py",
   "mimetype": "text/x-python",
   "name": "python",
   "nbconvert_exporter": "python",
   "pygments_lexer": "ipython3",
   "version": "3.6.3"
  }
 },
 "nbformat": 4,
 "nbformat_minor": 2
}
